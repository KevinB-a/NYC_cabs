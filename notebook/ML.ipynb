{
 "metadata": {
  "language_info": {
   "codemirror_mode": {
    "name": "ipython",
    "version": 3
   },
   "file_extension": ".py",
   "mimetype": "text/x-python",
   "name": "python",
   "nbconvert_exporter": "python",
   "pygments_lexer": "ipython3",
   "version": "3.8.5"
  },
  "orig_nbformat": 2,
  "kernelspec": {
   "name": "python3",
   "display_name": "Python 3.8.5 64-bit ('venv': venv)",
   "metadata": {
    "interpreter": {
     "hash": "0f4447b3384b4f3b07b96078d9b316e6c37ccf91db598f5f7009c7e67dcdfa05"
    }
   }
  }
 },
 "nbformat": 4,
 "nbformat_minor": 2,
 "cells": [
  {
   "cell_type": "code",
   "execution_count": 14,
   "metadata": {},
   "outputs": [],
   "source": [
    "# import des modules data\n",
    "import pandas as pd\n",
    "import numpy as np\n",
    "#import seaborn as sns\n",
    "#import matplotlib.pyplot as plt\n",
    "\n",
    "# importation des modules de machine learning\n",
    "from sklearn.model_selection import train_test_split\n",
    "from sklearn import linear_model"
   ]
  },
  {
   "cell_type": "code",
   "execution_count": 15,
   "metadata": {},
   "outputs": [],
   "source": [
    "df = pd.read_csv('/home/apprenant/PycharmProjects/NYC_cabs/data/clean.csv')"
   ]
  },
  {
   "source": [
    "## 2. Choix du modèle de machine learning"
   ],
   "cell_type": "markdown",
   "metadata": {}
  },
  {
   "cell_type": "code",
   "execution_count": 16,
   "metadata": {},
   "outputs": [
    {
     "output_type": "execute_result",
     "data": {
      "text/plain": [
       "count    1.458644e+06\n",
       "mean     3.440864e+00\n",
       "std      4.296538e+00\n",
       "min      0.000000e+00\n",
       "25%      1.231837e+00\n",
       "50%      2.093717e+00\n",
       "75%      3.875337e+00\n",
       "max      1.240909e+03\n",
       "Name: distance, dtype: float64"
      ]
     },
     "metadata": {},
     "execution_count": 16
    }
   ],
   "source": [
    "df[\"distance\"].describe()"
   ]
  },
  {
   "cell_type": "code",
   "execution_count": 17,
   "metadata": {},
   "outputs": [
    {
     "output_type": "error",
     "ename": "NameError",
     "evalue": "name 'plt' is not defined",
     "traceback": [
      "\u001b[0;31m---------------------------------------------------------------------------\u001b[0m",
      "\u001b[0;31mNameError\u001b[0m                                 Traceback (most recent call last)",
      "\u001b[0;32m<ipython-input-17-914bedcb7c9c>\u001b[0m in \u001b[0;36m<module>\u001b[0;34m\u001b[0m\n\u001b[0;32m----> 1\u001b[0;31m \u001b[0mplt\u001b[0m\u001b[0;34m.\u001b[0m\u001b[0mplot\u001b[0m\u001b[0;34m(\u001b[0m \u001b[0mdf\u001b[0m\u001b[0;34m[\u001b[0m\u001b[0;34m'distance'\u001b[0m\u001b[0;34m]\u001b[0m \u001b[0;34m,\u001b[0m\u001b[0;34m'ro'\u001b[0m\u001b[0;34m,\u001b[0m \u001b[0mmarkersize\u001b[0m\u001b[0;34m=\u001b[0m\u001b[0;36m4\u001b[0m\u001b[0;34m)\u001b[0m\u001b[0;34m\u001b[0m\u001b[0;34m\u001b[0m\u001b[0m\n\u001b[0m\u001b[1;32m      2\u001b[0m \u001b[0mplt\u001b[0m\u001b[0;34m.\u001b[0m\u001b[0mshow\u001b[0m\u001b[0;34m(\u001b[0m\u001b[0;34m)\u001b[0m\u001b[0;34m\u001b[0m\u001b[0;34m\u001b[0m\u001b[0m\n",
      "\u001b[0;31mNameError\u001b[0m: name 'plt' is not defined"
     ]
    }
   ],
   "source": [
    "plt.plot( df['distance'] ,'ro', markersize=4)\n",
    "plt.show()"
   ]
  },
  {
   "source": [
    "Clairement, d'après la visualisation, on peut se dire que la distance dépend de manière linéaire de la colonne trip_duration . On peut donc émettre une hypothèse de modélisation qui est que le phénomène possède la forme d'une droite."
   ],
   "cell_type": "markdown",
   "metadata": {}
  },
  {
   "source": [
    "## 3. Préparation des données"
   ],
   "cell_type": "markdown",
   "metadata": {}
  },
  {
   "source": [
    "### 3.a échantillonage"
   ],
   "cell_type": "markdown",
   "metadata": {}
  },
  {
   "cell_type": "code",
   "execution_count": 18,
   "metadata": {},
   "outputs": [
    {
     "output_type": "execute_result",
     "data": {
      "text/plain": [
       "                id  vendor_id      pickup_datetime     dropoff_datetime  \\\n",
       "1180676  id2858060          2  2016-05-22 08:22:15  2016-05-22 08:32:18   \n",
       "106912   id3122897          2  2016-04-11 22:25:14  2016-04-11 22:38:25   \n",
       "25198    id0561221          2  2016-01-31 01:15:53  2016-01-31 01:55:50   \n",
       "736716   id2932546          1  2016-02-10 20:37:16  2016-02-10 20:42:32   \n",
       "1293114  id3960504          2  2016-01-05 12:49:42  2016-01-05 12:57:35   \n",
       "...            ...        ...                  ...                  ...   \n",
       "646876   id3467961          2  2016-05-31 23:33:48  2016-05-31 23:40:52   \n",
       "338543   id1890138          2  2016-01-14 11:41:10  2016-01-14 11:49:35   \n",
       "185343   id0685261          1  2016-04-05 22:52:33  2016-04-05 22:56:59   \n",
       "877098   id0800743          2  2016-02-05 18:55:37  2016-02-05 19:10:42   \n",
       "484566   id1647406          2  2016-02-16 15:07:30  2016-02-16 15:34:28   \n",
       "\n",
       "         pickup_longitude  pickup_latitude  dropoff_longitude  \\\n",
       "1180676        -73.992889        40.747990         -74.008591   \n",
       "106912         -73.983238        40.756119         -73.964790   \n",
       "25198          -73.776695        40.645245         -74.001839   \n",
       "736716         -73.988617        40.746262         -73.983017   \n",
       "1293114        -73.957047        40.777611         -73.963341   \n",
       "...                   ...              ...                ...   \n",
       "646876         -73.970833        40.788399         -73.947891   \n",
       "338543         -73.968727        40.765789         -73.959793   \n",
       "185343         -73.955727        40.772739         -73.963348   \n",
       "877098         -73.990349        40.740902         -73.991371   \n",
       "484566         -73.992393        40.724419         -73.973907   \n",
       "\n",
       "         dropoff_latitude  trip_duration   distance      speed    weekday  \\\n",
       "1180676         40.714561       0.167500   3.945476  23.555078     Sunday   \n",
       "106912          40.804234       0.219722   5.571041  25.354928     Monday   \n",
       "25198           40.730228       0.665833  21.205216  31.847633     Sunday   \n",
       "736716          40.755867       0.087778   1.167604  13.301815  Wednesday   \n",
       "1293114         40.768841       0.131389   1.109910   8.447518    Tuesday   \n",
       "...                   ...            ...        ...        ...        ...   \n",
       "646876          40.785259       0.117778   1.962763  16.664970    Tuesday   \n",
       "338543          40.774471       0.140278   1.223957   8.725241   Thursday   \n",
       "185343          40.776962       0.073889   0.795231  10.762524    Tuesday   \n",
       "877098          40.750450       0.251389   1.065197   4.237249     Friday   \n",
       "484566          40.764278       0.449444   4.697847  10.452564    Tuesday   \n",
       "\n",
       "         time_hour  \n",
       "1180676          8  \n",
       "106912          22  \n",
       "25198            1  \n",
       "736716          20  \n",
       "1293114         12  \n",
       "...            ...  \n",
       "646876          23  \n",
       "338543          11  \n",
       "185343          22  \n",
       "877098          18  \n",
       "484566          15  \n",
       "\n",
       "[150000 rows x 13 columns]"
      ],
      "text/html": "<div>\n<style scoped>\n    .dataframe tbody tr th:only-of-type {\n        vertical-align: middle;\n    }\n\n    .dataframe tbody tr th {\n        vertical-align: top;\n    }\n\n    .dataframe thead th {\n        text-align: right;\n    }\n</style>\n<table border=\"1\" class=\"dataframe\">\n  <thead>\n    <tr style=\"text-align: right;\">\n      <th></th>\n      <th>id</th>\n      <th>vendor_id</th>\n      <th>pickup_datetime</th>\n      <th>dropoff_datetime</th>\n      <th>pickup_longitude</th>\n      <th>pickup_latitude</th>\n      <th>dropoff_longitude</th>\n      <th>dropoff_latitude</th>\n      <th>trip_duration</th>\n      <th>distance</th>\n      <th>speed</th>\n      <th>weekday</th>\n      <th>time_hour</th>\n    </tr>\n  </thead>\n  <tbody>\n    <tr>\n      <th>1180676</th>\n      <td>id2858060</td>\n      <td>2</td>\n      <td>2016-05-22 08:22:15</td>\n      <td>2016-05-22 08:32:18</td>\n      <td>-73.992889</td>\n      <td>40.747990</td>\n      <td>-74.008591</td>\n      <td>40.714561</td>\n      <td>0.167500</td>\n      <td>3.945476</td>\n      <td>23.555078</td>\n      <td>Sunday</td>\n      <td>8</td>\n    </tr>\n    <tr>\n      <th>106912</th>\n      <td>id3122897</td>\n      <td>2</td>\n      <td>2016-04-11 22:25:14</td>\n      <td>2016-04-11 22:38:25</td>\n      <td>-73.983238</td>\n      <td>40.756119</td>\n      <td>-73.964790</td>\n      <td>40.804234</td>\n      <td>0.219722</td>\n      <td>5.571041</td>\n      <td>25.354928</td>\n      <td>Monday</td>\n      <td>22</td>\n    </tr>\n    <tr>\n      <th>25198</th>\n      <td>id0561221</td>\n      <td>2</td>\n      <td>2016-01-31 01:15:53</td>\n      <td>2016-01-31 01:55:50</td>\n      <td>-73.776695</td>\n      <td>40.645245</td>\n      <td>-74.001839</td>\n      <td>40.730228</td>\n      <td>0.665833</td>\n      <td>21.205216</td>\n      <td>31.847633</td>\n      <td>Sunday</td>\n      <td>1</td>\n    </tr>\n    <tr>\n      <th>736716</th>\n      <td>id2932546</td>\n      <td>1</td>\n      <td>2016-02-10 20:37:16</td>\n      <td>2016-02-10 20:42:32</td>\n      <td>-73.988617</td>\n      <td>40.746262</td>\n      <td>-73.983017</td>\n      <td>40.755867</td>\n      <td>0.087778</td>\n      <td>1.167604</td>\n      <td>13.301815</td>\n      <td>Wednesday</td>\n      <td>20</td>\n    </tr>\n    <tr>\n      <th>1293114</th>\n      <td>id3960504</td>\n      <td>2</td>\n      <td>2016-01-05 12:49:42</td>\n      <td>2016-01-05 12:57:35</td>\n      <td>-73.957047</td>\n      <td>40.777611</td>\n      <td>-73.963341</td>\n      <td>40.768841</td>\n      <td>0.131389</td>\n      <td>1.109910</td>\n      <td>8.447518</td>\n      <td>Tuesday</td>\n      <td>12</td>\n    </tr>\n    <tr>\n      <th>...</th>\n      <td>...</td>\n      <td>...</td>\n      <td>...</td>\n      <td>...</td>\n      <td>...</td>\n      <td>...</td>\n      <td>...</td>\n      <td>...</td>\n      <td>...</td>\n      <td>...</td>\n      <td>...</td>\n      <td>...</td>\n      <td>...</td>\n    </tr>\n    <tr>\n      <th>646876</th>\n      <td>id3467961</td>\n      <td>2</td>\n      <td>2016-05-31 23:33:48</td>\n      <td>2016-05-31 23:40:52</td>\n      <td>-73.970833</td>\n      <td>40.788399</td>\n      <td>-73.947891</td>\n      <td>40.785259</td>\n      <td>0.117778</td>\n      <td>1.962763</td>\n      <td>16.664970</td>\n      <td>Tuesday</td>\n      <td>23</td>\n    </tr>\n    <tr>\n      <th>338543</th>\n      <td>id1890138</td>\n      <td>2</td>\n      <td>2016-01-14 11:41:10</td>\n      <td>2016-01-14 11:49:35</td>\n      <td>-73.968727</td>\n      <td>40.765789</td>\n      <td>-73.959793</td>\n      <td>40.774471</td>\n      <td>0.140278</td>\n      <td>1.223957</td>\n      <td>8.725241</td>\n      <td>Thursday</td>\n      <td>11</td>\n    </tr>\n    <tr>\n      <th>185343</th>\n      <td>id0685261</td>\n      <td>1</td>\n      <td>2016-04-05 22:52:33</td>\n      <td>2016-04-05 22:56:59</td>\n      <td>-73.955727</td>\n      <td>40.772739</td>\n      <td>-73.963348</td>\n      <td>40.776962</td>\n      <td>0.073889</td>\n      <td>0.795231</td>\n      <td>10.762524</td>\n      <td>Tuesday</td>\n      <td>22</td>\n    </tr>\n    <tr>\n      <th>877098</th>\n      <td>id0800743</td>\n      <td>2</td>\n      <td>2016-02-05 18:55:37</td>\n      <td>2016-02-05 19:10:42</td>\n      <td>-73.990349</td>\n      <td>40.740902</td>\n      <td>-73.991371</td>\n      <td>40.750450</td>\n      <td>0.251389</td>\n      <td>1.065197</td>\n      <td>4.237249</td>\n      <td>Friday</td>\n      <td>18</td>\n    </tr>\n    <tr>\n      <th>484566</th>\n      <td>id1647406</td>\n      <td>2</td>\n      <td>2016-02-16 15:07:30</td>\n      <td>2016-02-16 15:34:28</td>\n      <td>-73.992393</td>\n      <td>40.724419</td>\n      <td>-73.973907</td>\n      <td>40.764278</td>\n      <td>0.449444</td>\n      <td>4.697847</td>\n      <td>10.452564</td>\n      <td>Tuesday</td>\n      <td>15</td>\n    </tr>\n  </tbody>\n</table>\n<p>150000 rows × 13 columns</p>\n</div>"
     },
     "metadata": {},
     "execution_count": 18
    }
   ],
   "source": [
    "#On prends un échantillon du jeu de données il contient pres de 1.5 millions de lignes\n",
    "df.sample(n=150000)"
   ]
  },
  {
   "source": [
    "### 3.b Sélection de la variable cible et des variables à explicatives"
   ],
   "cell_type": "markdown",
   "metadata": {}
  },
  {
   "source": [
    "Les variables cibles ici sont la distance et la durée du voyage en taxi . On peut voir que quand la durée est longue les donées semble etre moins modélisables. va considérer pour l'instant résoudre le problème de prédiction pour la durée du voyage inférieurs à 600 s, afin de conserver une robustesse du modèle à ces données plutôt anormales, qui correspondent peut-être à un autre modèle distinct ou à un traitement comme outliers."
   ],
   "cell_type": "markdown",
   "metadata": {}
  },
  {
   "cell_type": "code",
   "execution_count": 19,
   "metadata": {},
   "outputs": [],
   "source": [
    "df = df[df[\"trip_duration\"] < 600] "
   ]
  },
  {
   "source": [
    "On définit a présent notre variable cible"
   ],
   "cell_type": "markdown",
   "metadata": {}
  },
  {
   "cell_type": "code",
   "execution_count": 20,
   "metadata": {},
   "outputs": [],
   "source": [
    "y = df.trip_duration"
   ]
  },
  {
   "cell_type": "code",
   "execution_count": 21,
   "metadata": {},
   "outputs": [],
   "source": [
    "X = df[\"distance\"]"
   ]
  },
  {
   "source": [
    "## 4. Division du jeu de données en training/validation/testing sets"
   ],
   "cell_type": "markdown",
   "metadata": {}
  },
  {
   "cell_type": "code",
   "execution_count": 22,
   "metadata": {},
   "outputs": [],
   "source": [
    "from sklearn.model_selection import train_test_split\n",
    "xtrain, xtest, ytrain, ytest = train_test_split(X, y, train_size=0.8)"
   ]
  },
  {
   "source": [
    "## 5. Apprentissage sur le training set"
   ],
   "cell_type": "markdown",
   "metadata": {}
  },
  {
   "source": [
    "#### On implémente la regression linéaire"
   ],
   "cell_type": "markdown",
   "metadata": {}
  },
  {
   "cell_type": "code",
   "execution_count": 23,
   "metadata": {},
   "outputs": [
    {
     "output_type": "error",
     "ename": "ValueError",
     "evalue": "Expected 2D array, got 1D array instead:\narray=[0.80909493 0.8510418  1.75844722 ... 1.44511774 1.46602527 8.12727397].\nReshape your data either using array.reshape(-1, 1) if your data has a single feature or array.reshape(1, -1) if it contains a single sample.",
     "traceback": [
      "\u001b[0;31m---------------------------------------------------------------------------\u001b[0m",
      "\u001b[0;31mValueError\u001b[0m                                Traceback (most recent call last)",
      "\u001b[0;32m<ipython-input-23-537af2a4fc4d>\u001b[0m in \u001b[0;36m<module>\u001b[0;34m\u001b[0m\n\u001b[1;32m      1\u001b[0m \u001b[0;32mfrom\u001b[0m \u001b[0msklearn\u001b[0m \u001b[0;32mimport\u001b[0m \u001b[0mlinear_model\u001b[0m\u001b[0;34m\u001b[0m\u001b[0;34m\u001b[0m\u001b[0m\n\u001b[1;32m      2\u001b[0m \u001b[0mregr\u001b[0m \u001b[0;34m=\u001b[0m \u001b[0mlinear_model\u001b[0m\u001b[0;34m.\u001b[0m\u001b[0mLinearRegression\u001b[0m\u001b[0;34m(\u001b[0m\u001b[0;34m)\u001b[0m\u001b[0;34m\u001b[0m\u001b[0;34m\u001b[0m\u001b[0m\n\u001b[0;32m----> 3\u001b[0;31m \u001b[0mregr\u001b[0m\u001b[0;34m.\u001b[0m\u001b[0mfit\u001b[0m\u001b[0;34m(\u001b[0m\u001b[0mxtrain\u001b[0m\u001b[0;34m,\u001b[0m \u001b[0mytrain\u001b[0m\u001b[0;34m)\u001b[0m\u001b[0;34m\u001b[0m\u001b[0;34m\u001b[0m\u001b[0m\n\u001b[0m",
      "\u001b[0;32m~/PycharmProjects/NYC_cabs/venv/lib/python3.8/site-packages/sklearn/linear_model/_base.py\u001b[0m in \u001b[0;36mfit\u001b[0;34m(self, X, y, sample_weight)\u001b[0m\n\u001b[1;32m    516\u001b[0m         \u001b[0maccept_sparse\u001b[0m \u001b[0;34m=\u001b[0m \u001b[0;32mFalse\u001b[0m \u001b[0;32mif\u001b[0m \u001b[0mself\u001b[0m\u001b[0;34m.\u001b[0m\u001b[0mpositive\u001b[0m \u001b[0;32melse\u001b[0m \u001b[0;34m[\u001b[0m\u001b[0;34m'csr'\u001b[0m\u001b[0;34m,\u001b[0m \u001b[0;34m'csc'\u001b[0m\u001b[0;34m,\u001b[0m \u001b[0;34m'coo'\u001b[0m\u001b[0;34m]\u001b[0m\u001b[0;34m\u001b[0m\u001b[0;34m\u001b[0m\u001b[0m\n\u001b[1;32m    517\u001b[0m \u001b[0;34m\u001b[0m\u001b[0m\n\u001b[0;32m--> 518\u001b[0;31m         X, y = self._validate_data(X, y, accept_sparse=accept_sparse,\n\u001b[0m\u001b[1;32m    519\u001b[0m                                    y_numeric=True, multi_output=True)\n\u001b[1;32m    520\u001b[0m \u001b[0;34m\u001b[0m\u001b[0m\n",
      "\u001b[0;32m~/PycharmProjects/NYC_cabs/venv/lib/python3.8/site-packages/sklearn/base.py\u001b[0m in \u001b[0;36m_validate_data\u001b[0;34m(self, X, y, reset, validate_separately, **check_params)\u001b[0m\n\u001b[1;32m    431\u001b[0m                 \u001b[0my\u001b[0m \u001b[0;34m=\u001b[0m \u001b[0mcheck_array\u001b[0m\u001b[0;34m(\u001b[0m\u001b[0my\u001b[0m\u001b[0;34m,\u001b[0m \u001b[0;34m**\u001b[0m\u001b[0mcheck_y_params\u001b[0m\u001b[0;34m)\u001b[0m\u001b[0;34m\u001b[0m\u001b[0;34m\u001b[0m\u001b[0m\n\u001b[1;32m    432\u001b[0m             \u001b[0;32melse\u001b[0m\u001b[0;34m:\u001b[0m\u001b[0;34m\u001b[0m\u001b[0;34m\u001b[0m\u001b[0m\n\u001b[0;32m--> 433\u001b[0;31m                 \u001b[0mX\u001b[0m\u001b[0;34m,\u001b[0m \u001b[0my\u001b[0m \u001b[0;34m=\u001b[0m \u001b[0mcheck_X_y\u001b[0m\u001b[0;34m(\u001b[0m\u001b[0mX\u001b[0m\u001b[0;34m,\u001b[0m \u001b[0my\u001b[0m\u001b[0;34m,\u001b[0m \u001b[0;34m**\u001b[0m\u001b[0mcheck_params\u001b[0m\u001b[0;34m)\u001b[0m\u001b[0;34m\u001b[0m\u001b[0;34m\u001b[0m\u001b[0m\n\u001b[0m\u001b[1;32m    434\u001b[0m             \u001b[0mout\u001b[0m \u001b[0;34m=\u001b[0m \u001b[0mX\u001b[0m\u001b[0;34m,\u001b[0m \u001b[0my\u001b[0m\u001b[0;34m\u001b[0m\u001b[0;34m\u001b[0m\u001b[0m\n\u001b[1;32m    435\u001b[0m \u001b[0;34m\u001b[0m\u001b[0m\n",
      "\u001b[0;32m~/PycharmProjects/NYC_cabs/venv/lib/python3.8/site-packages/sklearn/utils/validation.py\u001b[0m in \u001b[0;36minner_f\u001b[0;34m(*args, **kwargs)\u001b[0m\n\u001b[1;32m     61\u001b[0m             \u001b[0mextra_args\u001b[0m \u001b[0;34m=\u001b[0m \u001b[0mlen\u001b[0m\u001b[0;34m(\u001b[0m\u001b[0margs\u001b[0m\u001b[0;34m)\u001b[0m \u001b[0;34m-\u001b[0m \u001b[0mlen\u001b[0m\u001b[0;34m(\u001b[0m\u001b[0mall_args\u001b[0m\u001b[0;34m)\u001b[0m\u001b[0;34m\u001b[0m\u001b[0;34m\u001b[0m\u001b[0m\n\u001b[1;32m     62\u001b[0m             \u001b[0;32mif\u001b[0m \u001b[0mextra_args\u001b[0m \u001b[0;34m<=\u001b[0m \u001b[0;36m0\u001b[0m\u001b[0;34m:\u001b[0m\u001b[0;34m\u001b[0m\u001b[0;34m\u001b[0m\u001b[0m\n\u001b[0;32m---> 63\u001b[0;31m                 \u001b[0;32mreturn\u001b[0m \u001b[0mf\u001b[0m\u001b[0;34m(\u001b[0m\u001b[0;34m*\u001b[0m\u001b[0margs\u001b[0m\u001b[0;34m,\u001b[0m \u001b[0;34m**\u001b[0m\u001b[0mkwargs\u001b[0m\u001b[0;34m)\u001b[0m\u001b[0;34m\u001b[0m\u001b[0;34m\u001b[0m\u001b[0m\n\u001b[0m\u001b[1;32m     64\u001b[0m \u001b[0;34m\u001b[0m\u001b[0m\n\u001b[1;32m     65\u001b[0m             \u001b[0;31m# extra_args > 0\u001b[0m\u001b[0;34m\u001b[0m\u001b[0;34m\u001b[0m\u001b[0;34m\u001b[0m\u001b[0m\n",
      "\u001b[0;32m~/PycharmProjects/NYC_cabs/venv/lib/python3.8/site-packages/sklearn/utils/validation.py\u001b[0m in \u001b[0;36mcheck_X_y\u001b[0;34m(X, y, accept_sparse, accept_large_sparse, dtype, order, copy, force_all_finite, ensure_2d, allow_nd, multi_output, ensure_min_samples, ensure_min_features, y_numeric, estimator)\u001b[0m\n\u001b[1;32m    812\u001b[0m         \u001b[0;32mraise\u001b[0m \u001b[0mValueError\u001b[0m\u001b[0;34m(\u001b[0m\u001b[0;34m\"y cannot be None\"\u001b[0m\u001b[0;34m)\u001b[0m\u001b[0;34m\u001b[0m\u001b[0;34m\u001b[0m\u001b[0m\n\u001b[1;32m    813\u001b[0m \u001b[0;34m\u001b[0m\u001b[0m\n\u001b[0;32m--> 814\u001b[0;31m     X = check_array(X, accept_sparse=accept_sparse,\n\u001b[0m\u001b[1;32m    815\u001b[0m                     \u001b[0maccept_large_sparse\u001b[0m\u001b[0;34m=\u001b[0m\u001b[0maccept_large_sparse\u001b[0m\u001b[0;34m,\u001b[0m\u001b[0;34m\u001b[0m\u001b[0;34m\u001b[0m\u001b[0m\n\u001b[1;32m    816\u001b[0m                     \u001b[0mdtype\u001b[0m\u001b[0;34m=\u001b[0m\u001b[0mdtype\u001b[0m\u001b[0;34m,\u001b[0m \u001b[0morder\u001b[0m\u001b[0;34m=\u001b[0m\u001b[0morder\u001b[0m\u001b[0;34m,\u001b[0m \u001b[0mcopy\u001b[0m\u001b[0;34m=\u001b[0m\u001b[0mcopy\u001b[0m\u001b[0;34m,\u001b[0m\u001b[0;34m\u001b[0m\u001b[0;34m\u001b[0m\u001b[0m\n",
      "\u001b[0;32m~/PycharmProjects/NYC_cabs/venv/lib/python3.8/site-packages/sklearn/utils/validation.py\u001b[0m in \u001b[0;36minner_f\u001b[0;34m(*args, **kwargs)\u001b[0m\n\u001b[1;32m     61\u001b[0m             \u001b[0mextra_args\u001b[0m \u001b[0;34m=\u001b[0m \u001b[0mlen\u001b[0m\u001b[0;34m(\u001b[0m\u001b[0margs\u001b[0m\u001b[0;34m)\u001b[0m \u001b[0;34m-\u001b[0m \u001b[0mlen\u001b[0m\u001b[0;34m(\u001b[0m\u001b[0mall_args\u001b[0m\u001b[0;34m)\u001b[0m\u001b[0;34m\u001b[0m\u001b[0;34m\u001b[0m\u001b[0m\n\u001b[1;32m     62\u001b[0m             \u001b[0;32mif\u001b[0m \u001b[0mextra_args\u001b[0m \u001b[0;34m<=\u001b[0m \u001b[0;36m0\u001b[0m\u001b[0;34m:\u001b[0m\u001b[0;34m\u001b[0m\u001b[0;34m\u001b[0m\u001b[0m\n\u001b[0;32m---> 63\u001b[0;31m                 \u001b[0;32mreturn\u001b[0m \u001b[0mf\u001b[0m\u001b[0;34m(\u001b[0m\u001b[0;34m*\u001b[0m\u001b[0margs\u001b[0m\u001b[0;34m,\u001b[0m \u001b[0;34m**\u001b[0m\u001b[0mkwargs\u001b[0m\u001b[0;34m)\u001b[0m\u001b[0;34m\u001b[0m\u001b[0;34m\u001b[0m\u001b[0m\n\u001b[0m\u001b[1;32m     64\u001b[0m \u001b[0;34m\u001b[0m\u001b[0m\n\u001b[1;32m     65\u001b[0m             \u001b[0;31m# extra_args > 0\u001b[0m\u001b[0;34m\u001b[0m\u001b[0;34m\u001b[0m\u001b[0;34m\u001b[0m\u001b[0m\n",
      "\u001b[0;32m~/PycharmProjects/NYC_cabs/venv/lib/python3.8/site-packages/sklearn/utils/validation.py\u001b[0m in \u001b[0;36mcheck_array\u001b[0;34m(array, accept_sparse, accept_large_sparse, dtype, order, copy, force_all_finite, ensure_2d, allow_nd, ensure_min_samples, ensure_min_features, estimator)\u001b[0m\n\u001b[1;32m    635\u001b[0m             \u001b[0;31m# If input is 1D raise error\u001b[0m\u001b[0;34m\u001b[0m\u001b[0;34m\u001b[0m\u001b[0;34m\u001b[0m\u001b[0m\n\u001b[1;32m    636\u001b[0m             \u001b[0;32mif\u001b[0m \u001b[0marray\u001b[0m\u001b[0;34m.\u001b[0m\u001b[0mndim\u001b[0m \u001b[0;34m==\u001b[0m \u001b[0;36m1\u001b[0m\u001b[0;34m:\u001b[0m\u001b[0;34m\u001b[0m\u001b[0;34m\u001b[0m\u001b[0m\n\u001b[0;32m--> 637\u001b[0;31m                 raise ValueError(\n\u001b[0m\u001b[1;32m    638\u001b[0m                     \u001b[0;34m\"Expected 2D array, got 1D array instead:\\narray={}.\\n\"\u001b[0m\u001b[0;34m\u001b[0m\u001b[0;34m\u001b[0m\u001b[0m\n\u001b[1;32m    639\u001b[0m                     \u001b[0;34m\"Reshape your data either using array.reshape(-1, 1) if \"\u001b[0m\u001b[0;34m\u001b[0m\u001b[0;34m\u001b[0m\u001b[0m\n",
      "\u001b[0;31mValueError\u001b[0m: Expected 2D array, got 1D array instead:\narray=[0.80909493 0.8510418  1.75844722 ... 1.44511774 1.46602527 8.12727397].\nReshape your data either using array.reshape(-1, 1) if your data has a single feature or array.reshape(1, -1) if it contains a single sample."
     ]
    }
   ],
   "source": [
    "from sklearn import linear_model\n",
    "regr = linear_model.LinearRegression()\n",
    "regr.fit(xtrain, ytrain)"
   ]
  },
  {
   "source": [
    "#### On obtient ainsi les parmètres β1 et β0 de notre modèle"
   ],
   "cell_type": "markdown",
   "metadata": {}
  }
 ]
}