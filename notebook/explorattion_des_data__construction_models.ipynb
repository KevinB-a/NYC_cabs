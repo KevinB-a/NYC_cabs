{
 "cells": [
  {
   "cell_type": "markdown",
   "metadata": {},
   "source": [
    "# NYC_cabs"
   ]
  },
  {
   "cell_type": "code",
   "execution_count": 117,
   "metadata": {},
   "outputs": [],
   "source": [
    "#Importation des Modules nécessaires\n",
    "import pandas as pd\n",
    "import matplotlib.pyplot as plt\n",
    "import seaborn as sns\n",
    "\n",
    "\n",
    "pd.set_option('display.float_format', lambda x: '%.3f' % x) #round float\n",
    "plt.rcParams['figure.figsize'] = (8.5, 5)\n",
    "plt.rcParams[\"patch.force_edgecolor\"] = True\n",
    "sns.mpl.rc(\"figure\", figsize=(8.5,5))\n",
    "\n",
    "\n",
    "#Pour que python reconnaisse un dossier comme un module il faut ajouter en son sein un fichier __init__.py \n",
    "#et également l'ajouter au PATH\n",
    "\n",
    "import sys\n",
    "sys.path.insert(0, \"/home/apprenant/PycharmProjects/NYC_cabs\")\n",
    "\n",
    "\n",
    "#On peut ensuite importer le dossier comme un module\n",
    "\n",
    "from src.utils import *\n"
   ]
  },
  {
   "cell_type": "code",
   "execution_count": 118,
   "metadata": {},
   "outputs": [],
   "source": [
    "df = pd.read_csv(\"/home/apprenant/PycharmProjects/NYC_cabs/data/clean.csv\", parse_dates= [2,3] )"
   ]
  },
  {
   "cell_type": "code",
   "execution_count": 119,
   "metadata": {},
   "outputs": [
    {
     "data": {
      "text/plain": [
       "(9724, 14)"
      ]
     },
     "execution_count": 119,
     "metadata": {},
     "output_type": "execute_result"
    }
   ],
   "source": [
    "df.shape"
   ]
  },
  {
   "cell_type": "code",
   "execution_count": 120,
   "metadata": {},
   "outputs": [
    {
     "data": {
      "text/html": [
       "<div>\n",
       "<style scoped>\n",
       "    .dataframe tbody tr th:only-of-type {\n",
       "        vertical-align: middle;\n",
       "    }\n",
       "\n",
       "    .dataframe tbody tr th {\n",
       "        vertical-align: top;\n",
       "    }\n",
       "\n",
       "    .dataframe thead th {\n",
       "        text-align: right;\n",
       "    }\n",
       "</style>\n",
       "<table border=\"1\" class=\"dataframe\">\n",
       "  <thead>\n",
       "    <tr style=\"text-align: right;\">\n",
       "      <th></th>\n",
       "      <th>id</th>\n",
       "      <th>vendor_id</th>\n",
       "      <th>pickup_datetime</th>\n",
       "      <th>dropoff_datetime</th>\n",
       "      <th>pickup_longitude</th>\n",
       "      <th>pickup_latitude</th>\n",
       "      <th>dropoff_longitude</th>\n",
       "      <th>dropoff_latitude</th>\n",
       "      <th>trip_duration</th>\n",
       "      <th>distance_km</th>\n",
       "      <th>trip_duration_h</th>\n",
       "      <th>speed_km_h</th>\n",
       "      <th>weekday</th>\n",
       "      <th>time_hour</th>\n",
       "    </tr>\n",
       "  </thead>\n",
       "  <tbody>\n",
       "    <tr>\n",
       "      <th>0</th>\n",
       "      <td>id2875421</td>\n",
       "      <td>2</td>\n",
       "      <td>2016-03-14 17:24:55</td>\n",
       "      <td>2016-03-14 17:32:30</td>\n",
       "      <td>-73.982</td>\n",
       "      <td>40.768</td>\n",
       "      <td>-73.965</td>\n",
       "      <td>40.766</td>\n",
       "      <td>455</td>\n",
       "      <td>1.499</td>\n",
       "      <td>0.126</td>\n",
       "      <td>11.856</td>\n",
       "      <td>Monday</td>\n",
       "      <td>17</td>\n",
       "    </tr>\n",
       "    <tr>\n",
       "      <th>1</th>\n",
       "      <td>id2377394</td>\n",
       "      <td>1</td>\n",
       "      <td>2016-06-12 00:43:35</td>\n",
       "      <td>2016-06-12 00:54:38</td>\n",
       "      <td>-73.980</td>\n",
       "      <td>40.739</td>\n",
       "      <td>-73.999</td>\n",
       "      <td>40.731</td>\n",
       "      <td>663</td>\n",
       "      <td>1.806</td>\n",
       "      <td>0.184</td>\n",
       "      <td>9.804</td>\n",
       "      <td>Sunday</td>\n",
       "      <td>0</td>\n",
       "    </tr>\n",
       "    <tr>\n",
       "      <th>2</th>\n",
       "      <td>id3858529</td>\n",
       "      <td>2</td>\n",
       "      <td>2016-01-19 11:35:24</td>\n",
       "      <td>2016-01-19 12:10:48</td>\n",
       "      <td>-73.979</td>\n",
       "      <td>40.764</td>\n",
       "      <td>-74.005</td>\n",
       "      <td>40.710</td>\n",
       "      <td>2124</td>\n",
       "      <td>6.385</td>\n",
       "      <td>0.590</td>\n",
       "      <td>10.822</td>\n",
       "      <td>Tuesday</td>\n",
       "      <td>11</td>\n",
       "    </tr>\n",
       "    <tr>\n",
       "      <th>3</th>\n",
       "      <td>id3504673</td>\n",
       "      <td>2</td>\n",
       "      <td>2016-04-06 19:32:31</td>\n",
       "      <td>2016-04-06 19:39:40</td>\n",
       "      <td>-74.010</td>\n",
       "      <td>40.720</td>\n",
       "      <td>-74.012</td>\n",
       "      <td>40.707</td>\n",
       "      <td>429</td>\n",
       "      <td>1.485</td>\n",
       "      <td>0.119</td>\n",
       "      <td>12.466</td>\n",
       "      <td>Wednesday</td>\n",
       "      <td>19</td>\n",
       "    </tr>\n",
       "    <tr>\n",
       "      <th>4</th>\n",
       "      <td>id2181028</td>\n",
       "      <td>2</td>\n",
       "      <td>2016-03-26 13:30:55</td>\n",
       "      <td>2016-03-26 13:38:10</td>\n",
       "      <td>-73.973</td>\n",
       "      <td>40.793</td>\n",
       "      <td>-73.973</td>\n",
       "      <td>40.783</td>\n",
       "      <td>435</td>\n",
       "      <td>1.189</td>\n",
       "      <td>0.121</td>\n",
       "      <td>9.837</td>\n",
       "      <td>Saturday</td>\n",
       "      <td>13</td>\n",
       "    </tr>\n",
       "  </tbody>\n",
       "</table>\n",
       "</div>"
      ],
      "text/plain": [
       "          id  vendor_id     pickup_datetime    dropoff_datetime  \\\n",
       "0  id2875421          2 2016-03-14 17:24:55 2016-03-14 17:32:30   \n",
       "1  id2377394          1 2016-06-12 00:43:35 2016-06-12 00:54:38   \n",
       "2  id3858529          2 2016-01-19 11:35:24 2016-01-19 12:10:48   \n",
       "3  id3504673          2 2016-04-06 19:32:31 2016-04-06 19:39:40   \n",
       "4  id2181028          2 2016-03-26 13:30:55 2016-03-26 13:38:10   \n",
       "\n",
       "   pickup_longitude  pickup_latitude  dropoff_longitude  dropoff_latitude  \\\n",
       "0           -73.982           40.768            -73.965            40.766   \n",
       "1           -73.980           40.739            -73.999            40.731   \n",
       "2           -73.979           40.764            -74.005            40.710   \n",
       "3           -74.010           40.720            -74.012            40.707   \n",
       "4           -73.973           40.793            -73.973            40.783   \n",
       "\n",
       "   trip_duration  distance_km  trip_duration_h  speed_km_h    weekday  \\\n",
       "0            455        1.499            0.126      11.856     Monday   \n",
       "1            663        1.806            0.184       9.804     Sunday   \n",
       "2           2124        6.385            0.590      10.822    Tuesday   \n",
       "3            429        1.485            0.119      12.466  Wednesday   \n",
       "4            435        1.189            0.121       9.837   Saturday   \n",
       "\n",
       "   time_hour  \n",
       "0         17  \n",
       "1          0  \n",
       "2         11  \n",
       "3         19  \n",
       "4         13  "
      ]
     },
     "execution_count": 120,
     "metadata": {},
     "output_type": "execute_result"
    }
   ],
   "source": [
    "df.head()"
   ]
  },
  {
   "cell_type": "markdown",
   "metadata": {},
   "source": [
    "## 1. Exploration des données"
   ]
  },
  {
   "cell_type": "code",
   "execution_count": 121,
   "metadata": {},
   "outputs": [
    {
     "data": {
      "text/html": [
       "<div>\n",
       "<style scoped>\n",
       "    .dataframe tbody tr th:only-of-type {\n",
       "        vertical-align: middle;\n",
       "    }\n",
       "\n",
       "    .dataframe tbody tr th {\n",
       "        vertical-align: top;\n",
       "    }\n",
       "\n",
       "    .dataframe thead th {\n",
       "        text-align: right;\n",
       "    }\n",
       "</style>\n",
       "<table border=\"1\" class=\"dataframe\">\n",
       "  <thead>\n",
       "    <tr style=\"text-align: right;\">\n",
       "      <th></th>\n",
       "      <th>count</th>\n",
       "      <th>mean</th>\n",
       "      <th>std</th>\n",
       "      <th>min</th>\n",
       "      <th>25%</th>\n",
       "      <th>50%</th>\n",
       "      <th>75%</th>\n",
       "      <th>max</th>\n",
       "    </tr>\n",
       "  </thead>\n",
       "  <tbody>\n",
       "    <tr>\n",
       "      <th>vendor_id</th>\n",
       "      <td>9724.000</td>\n",
       "      <td>1.530</td>\n",
       "      <td>0.499</td>\n",
       "      <td>1.000</td>\n",
       "      <td>1.000</td>\n",
       "      <td>2.000</td>\n",
       "      <td>2.000</td>\n",
       "      <td>2.000</td>\n",
       "    </tr>\n",
       "    <tr>\n",
       "      <th>pickup_longitude</th>\n",
       "      <td>9724.000</td>\n",
       "      <td>-73.974</td>\n",
       "      <td>0.037</td>\n",
       "      <td>-74.018</td>\n",
       "      <td>-73.992</td>\n",
       "      <td>-73.982</td>\n",
       "      <td>-73.967</td>\n",
       "      <td>-73.756</td>\n",
       "    </tr>\n",
       "    <tr>\n",
       "      <th>pickup_latitude</th>\n",
       "      <td>9724.000</td>\n",
       "      <td>40.751</td>\n",
       "      <td>0.027</td>\n",
       "      <td>40.613</td>\n",
       "      <td>40.738</td>\n",
       "      <td>40.755</td>\n",
       "      <td>40.768</td>\n",
       "      <td>40.874</td>\n",
       "    </tr>\n",
       "    <tr>\n",
       "      <th>dropoff_longitude</th>\n",
       "      <td>9724.000</td>\n",
       "      <td>-73.974</td>\n",
       "      <td>0.035</td>\n",
       "      <td>-74.380</td>\n",
       "      <td>-73.991</td>\n",
       "      <td>-73.980</td>\n",
       "      <td>-73.963</td>\n",
       "      <td>-73.594</td>\n",
       "    </tr>\n",
       "    <tr>\n",
       "      <th>dropoff_latitude</th>\n",
       "      <td>9724.000</td>\n",
       "      <td>40.752</td>\n",
       "      <td>0.032</td>\n",
       "      <td>40.567</td>\n",
       "      <td>40.735</td>\n",
       "      <td>40.755</td>\n",
       "      <td>40.770</td>\n",
       "      <td>41.044</td>\n",
       "    </tr>\n",
       "    <tr>\n",
       "      <th>trip_duration</th>\n",
       "      <td>9724.000</td>\n",
       "      <td>823.552</td>\n",
       "      <td>580.235</td>\n",
       "      <td>120.000</td>\n",
       "      <td>409.000</td>\n",
       "      <td>666.500</td>\n",
       "      <td>1065.000</td>\n",
       "      <td>3597.000</td>\n",
       "    </tr>\n",
       "    <tr>\n",
       "      <th>distance_km</th>\n",
       "      <td>9724.000</td>\n",
       "      <td>3.399</td>\n",
       "      <td>3.817</td>\n",
       "      <td>0.000</td>\n",
       "      <td>1.284</td>\n",
       "      <td>2.117</td>\n",
       "      <td>3.808</td>\n",
       "      <td>45.116</td>\n",
       "    </tr>\n",
       "    <tr>\n",
       "      <th>trip_duration_h</th>\n",
       "      <td>9724.000</td>\n",
       "      <td>0.229</td>\n",
       "      <td>0.161</td>\n",
       "      <td>0.033</td>\n",
       "      <td>0.114</td>\n",
       "      <td>0.185</td>\n",
       "      <td>0.296</td>\n",
       "      <td>0.999</td>\n",
       "    </tr>\n",
       "    <tr>\n",
       "      <th>speed_km_h</th>\n",
       "      <td>9724.000</td>\n",
       "      <td>14.353</td>\n",
       "      <td>7.682</td>\n",
       "      <td>0.000</td>\n",
       "      <td>9.163</td>\n",
       "      <td>12.700</td>\n",
       "      <td>17.642</td>\n",
       "      <td>64.096</td>\n",
       "    </tr>\n",
       "    <tr>\n",
       "      <th>time_hour</th>\n",
       "      <td>9724.000</td>\n",
       "      <td>13.679</td>\n",
       "      <td>6.401</td>\n",
       "      <td>0.000</td>\n",
       "      <td>9.000</td>\n",
       "      <td>14.000</td>\n",
       "      <td>19.000</td>\n",
       "      <td>23.000</td>\n",
       "    </tr>\n",
       "  </tbody>\n",
       "</table>\n",
       "</div>"
      ],
      "text/plain": [
       "                     count    mean     std     min     25%     50%      75%  \\\n",
       "vendor_id         9724.000   1.530   0.499   1.000   1.000   2.000    2.000   \n",
       "pickup_longitude  9724.000 -73.974   0.037 -74.018 -73.992 -73.982  -73.967   \n",
       "pickup_latitude   9724.000  40.751   0.027  40.613  40.738  40.755   40.768   \n",
       "dropoff_longitude 9724.000 -73.974   0.035 -74.380 -73.991 -73.980  -73.963   \n",
       "dropoff_latitude  9724.000  40.752   0.032  40.567  40.735  40.755   40.770   \n",
       "trip_duration     9724.000 823.552 580.235 120.000 409.000 666.500 1065.000   \n",
       "distance_km       9724.000   3.399   3.817   0.000   1.284   2.117    3.808   \n",
       "trip_duration_h   9724.000   0.229   0.161   0.033   0.114   0.185    0.296   \n",
       "speed_km_h        9724.000  14.353   7.682   0.000   9.163  12.700   17.642   \n",
       "time_hour         9724.000  13.679   6.401   0.000   9.000  14.000   19.000   \n",
       "\n",
       "                       max  \n",
       "vendor_id            2.000  \n",
       "pickup_longitude   -73.756  \n",
       "pickup_latitude     40.874  \n",
       "dropoff_longitude  -73.594  \n",
       "dropoff_latitude    41.044  \n",
       "trip_duration     3597.000  \n",
       "distance_km         45.116  \n",
       "trip_duration_h      0.999  \n",
       "speed_km_h          64.096  \n",
       "time_hour           23.000  "
      ]
     },
     "execution_count": 121,
     "metadata": {},
     "output_type": "execute_result"
    }
   ],
   "source": [
    "df.describe().T"
   ]
  },
  {
   "cell_type": "code",
   "execution_count": 122,
   "metadata": {},
   "outputs": [],
   "source": [
    "#on ne garde que les courses entre 2 min et 1h\n",
    "\n",
    "df = df[df['trip_duration'] <= 3600]\n",
    "df = df[df['trip_duration'] >= 120]\n",
    "\n"
   ]
  },
  {
   "cell_type": "markdown",
   "metadata": {},
   "source": [
    "## 1.1 calculer la vitesse moyenne de chaque trajet (en km/h) "
   ]
  },
  {
   "cell_type": "code",
   "execution_count": 123,
   "metadata": {},
   "outputs": [],
   "source": [
    "# on cré une nouvelle colonne avec la distance en km calculée apartir des latitudes et longitudes des point de départ et d'arrivée\n",
    "\n",
    "df['distance_km'] = lat_and_long_to_distance(df['pickup_latitude'].values,df['pickup_longitude'].values, df['dropoff_latitude'].values,df['dropoff_longitude'].values)\n"
   ]
  },
  {
   "cell_type": "code",
   "execution_count": 124,
   "metadata": {},
   "outputs": [
    {
     "data": {
      "text/html": [
       "<div>\n",
       "<style scoped>\n",
       "    .dataframe tbody tr th:only-of-type {\n",
       "        vertical-align: middle;\n",
       "    }\n",
       "\n",
       "    .dataframe tbody tr th {\n",
       "        vertical-align: top;\n",
       "    }\n",
       "\n",
       "    .dataframe thead th {\n",
       "        text-align: right;\n",
       "    }\n",
       "</style>\n",
       "<table border=\"1\" class=\"dataframe\">\n",
       "  <thead>\n",
       "    <tr style=\"text-align: right;\">\n",
       "      <th></th>\n",
       "      <th>id</th>\n",
       "      <th>vendor_id</th>\n",
       "      <th>pickup_datetime</th>\n",
       "      <th>dropoff_datetime</th>\n",
       "      <th>pickup_longitude</th>\n",
       "      <th>pickup_latitude</th>\n",
       "      <th>dropoff_longitude</th>\n",
       "      <th>dropoff_latitude</th>\n",
       "      <th>trip_duration</th>\n",
       "      <th>distance_km</th>\n",
       "      <th>trip_duration_h</th>\n",
       "      <th>speed_km_h</th>\n",
       "      <th>weekday</th>\n",
       "      <th>time_hour</th>\n",
       "    </tr>\n",
       "  </thead>\n",
       "  <tbody>\n",
       "    <tr>\n",
       "      <th>0</th>\n",
       "      <td>id2875421</td>\n",
       "      <td>2</td>\n",
       "      <td>2016-03-14 17:24:55</td>\n",
       "      <td>2016-03-14 17:32:30</td>\n",
       "      <td>-73.982</td>\n",
       "      <td>40.768</td>\n",
       "      <td>-73.965</td>\n",
       "      <td>40.766</td>\n",
       "      <td>455</td>\n",
       "      <td>1.499</td>\n",
       "      <td>0.126</td>\n",
       "      <td>11.856</td>\n",
       "      <td>Monday</td>\n",
       "      <td>17</td>\n",
       "    </tr>\n",
       "    <tr>\n",
       "      <th>1</th>\n",
       "      <td>id2377394</td>\n",
       "      <td>1</td>\n",
       "      <td>2016-06-12 00:43:35</td>\n",
       "      <td>2016-06-12 00:54:38</td>\n",
       "      <td>-73.980</td>\n",
       "      <td>40.739</td>\n",
       "      <td>-73.999</td>\n",
       "      <td>40.731</td>\n",
       "      <td>663</td>\n",
       "      <td>1.806</td>\n",
       "      <td>0.184</td>\n",
       "      <td>9.804</td>\n",
       "      <td>Sunday</td>\n",
       "      <td>0</td>\n",
       "    </tr>\n",
       "    <tr>\n",
       "      <th>2</th>\n",
       "      <td>id3858529</td>\n",
       "      <td>2</td>\n",
       "      <td>2016-01-19 11:35:24</td>\n",
       "      <td>2016-01-19 12:10:48</td>\n",
       "      <td>-73.979</td>\n",
       "      <td>40.764</td>\n",
       "      <td>-74.005</td>\n",
       "      <td>40.710</td>\n",
       "      <td>2124</td>\n",
       "      <td>6.385</td>\n",
       "      <td>0.590</td>\n",
       "      <td>10.822</td>\n",
       "      <td>Tuesday</td>\n",
       "      <td>11</td>\n",
       "    </tr>\n",
       "    <tr>\n",
       "      <th>3</th>\n",
       "      <td>id3504673</td>\n",
       "      <td>2</td>\n",
       "      <td>2016-04-06 19:32:31</td>\n",
       "      <td>2016-04-06 19:39:40</td>\n",
       "      <td>-74.010</td>\n",
       "      <td>40.720</td>\n",
       "      <td>-74.012</td>\n",
       "      <td>40.707</td>\n",
       "      <td>429</td>\n",
       "      <td>1.485</td>\n",
       "      <td>0.119</td>\n",
       "      <td>12.466</td>\n",
       "      <td>Wednesday</td>\n",
       "      <td>19</td>\n",
       "    </tr>\n",
       "    <tr>\n",
       "      <th>4</th>\n",
       "      <td>id2181028</td>\n",
       "      <td>2</td>\n",
       "      <td>2016-03-26 13:30:55</td>\n",
       "      <td>2016-03-26 13:38:10</td>\n",
       "      <td>-73.973</td>\n",
       "      <td>40.793</td>\n",
       "      <td>-73.973</td>\n",
       "      <td>40.783</td>\n",
       "      <td>435</td>\n",
       "      <td>1.189</td>\n",
       "      <td>0.121</td>\n",
       "      <td>9.837</td>\n",
       "      <td>Saturday</td>\n",
       "      <td>13</td>\n",
       "    </tr>\n",
       "  </tbody>\n",
       "</table>\n",
       "</div>"
      ],
      "text/plain": [
       "          id  vendor_id     pickup_datetime    dropoff_datetime  \\\n",
       "0  id2875421          2 2016-03-14 17:24:55 2016-03-14 17:32:30   \n",
       "1  id2377394          1 2016-06-12 00:43:35 2016-06-12 00:54:38   \n",
       "2  id3858529          2 2016-01-19 11:35:24 2016-01-19 12:10:48   \n",
       "3  id3504673          2 2016-04-06 19:32:31 2016-04-06 19:39:40   \n",
       "4  id2181028          2 2016-03-26 13:30:55 2016-03-26 13:38:10   \n",
       "\n",
       "   pickup_longitude  pickup_latitude  dropoff_longitude  dropoff_latitude  \\\n",
       "0           -73.982           40.768            -73.965            40.766   \n",
       "1           -73.980           40.739            -73.999            40.731   \n",
       "2           -73.979           40.764            -74.005            40.710   \n",
       "3           -74.010           40.720            -74.012            40.707   \n",
       "4           -73.973           40.793            -73.973            40.783   \n",
       "\n",
       "   trip_duration  distance_km  trip_duration_h  speed_km_h    weekday  \\\n",
       "0            455        1.499            0.126      11.856     Monday   \n",
       "1            663        1.806            0.184       9.804     Sunday   \n",
       "2           2124        6.385            0.590      10.822    Tuesday   \n",
       "3            429        1.485            0.119      12.466  Wednesday   \n",
       "4            435        1.189            0.121       9.837   Saturday   \n",
       "\n",
       "   time_hour  \n",
       "0         17  \n",
       "1          0  \n",
       "2         11  \n",
       "3         19  \n",
       "4         13  "
      ]
     },
     "execution_count": 124,
     "metadata": {},
     "output_type": "execute_result"
    }
   ],
   "source": [
    "df.head()"
   ]
  },
  {
   "cell_type": "code",
   "execution_count": 125,
   "metadata": {},
   "outputs": [],
   "source": [
    "df[\"trip_duration_h\"] = df[\"trip_duration\"]/3600 # la colonne trip_duration est transformé en h "
   ]
  },
  {
   "cell_type": "code",
   "execution_count": 126,
   "metadata": {},
   "outputs": [],
   "source": [
    "df[\"speed_km_h\"] = df[\"distance_km\"] / df[\"trip_duration_h\"] # nouvelle colonne speed qui a pour unité le km/h"
   ]
  },
  {
   "cell_type": "code",
   "execution_count": 127,
   "metadata": {},
   "outputs": [
    {
     "data": {
      "text/html": [
       "<div>\n",
       "<style scoped>\n",
       "    .dataframe tbody tr th:only-of-type {\n",
       "        vertical-align: middle;\n",
       "    }\n",
       "\n",
       "    .dataframe tbody tr th {\n",
       "        vertical-align: top;\n",
       "    }\n",
       "\n",
       "    .dataframe thead th {\n",
       "        text-align: right;\n",
       "    }\n",
       "</style>\n",
       "<table border=\"1\" class=\"dataframe\">\n",
       "  <thead>\n",
       "    <tr style=\"text-align: right;\">\n",
       "      <th></th>\n",
       "      <th>id</th>\n",
       "      <th>vendor_id</th>\n",
       "      <th>pickup_datetime</th>\n",
       "      <th>dropoff_datetime</th>\n",
       "      <th>pickup_longitude</th>\n",
       "      <th>pickup_latitude</th>\n",
       "      <th>dropoff_longitude</th>\n",
       "      <th>dropoff_latitude</th>\n",
       "      <th>trip_duration</th>\n",
       "      <th>distance_km</th>\n",
       "      <th>trip_duration_h</th>\n",
       "      <th>speed_km_h</th>\n",
       "      <th>weekday</th>\n",
       "      <th>time_hour</th>\n",
       "    </tr>\n",
       "  </thead>\n",
       "  <tbody>\n",
       "    <tr>\n",
       "      <th>0</th>\n",
       "      <td>id2875421</td>\n",
       "      <td>2</td>\n",
       "      <td>2016-03-14 17:24:55</td>\n",
       "      <td>2016-03-14 17:32:30</td>\n",
       "      <td>-73.982</td>\n",
       "      <td>40.768</td>\n",
       "      <td>-73.965</td>\n",
       "      <td>40.766</td>\n",
       "      <td>455</td>\n",
       "      <td>1.499</td>\n",
       "      <td>0.126</td>\n",
       "      <td>11.856</td>\n",
       "      <td>Monday</td>\n",
       "      <td>17</td>\n",
       "    </tr>\n",
       "    <tr>\n",
       "      <th>1</th>\n",
       "      <td>id2377394</td>\n",
       "      <td>1</td>\n",
       "      <td>2016-06-12 00:43:35</td>\n",
       "      <td>2016-06-12 00:54:38</td>\n",
       "      <td>-73.980</td>\n",
       "      <td>40.739</td>\n",
       "      <td>-73.999</td>\n",
       "      <td>40.731</td>\n",
       "      <td>663</td>\n",
       "      <td>1.806</td>\n",
       "      <td>0.184</td>\n",
       "      <td>9.804</td>\n",
       "      <td>Sunday</td>\n",
       "      <td>0</td>\n",
       "    </tr>\n",
       "    <tr>\n",
       "      <th>2</th>\n",
       "      <td>id3858529</td>\n",
       "      <td>2</td>\n",
       "      <td>2016-01-19 11:35:24</td>\n",
       "      <td>2016-01-19 12:10:48</td>\n",
       "      <td>-73.979</td>\n",
       "      <td>40.764</td>\n",
       "      <td>-74.005</td>\n",
       "      <td>40.710</td>\n",
       "      <td>2124</td>\n",
       "      <td>6.385</td>\n",
       "      <td>0.590</td>\n",
       "      <td>10.822</td>\n",
       "      <td>Tuesday</td>\n",
       "      <td>11</td>\n",
       "    </tr>\n",
       "    <tr>\n",
       "      <th>3</th>\n",
       "      <td>id3504673</td>\n",
       "      <td>2</td>\n",
       "      <td>2016-04-06 19:32:31</td>\n",
       "      <td>2016-04-06 19:39:40</td>\n",
       "      <td>-74.010</td>\n",
       "      <td>40.720</td>\n",
       "      <td>-74.012</td>\n",
       "      <td>40.707</td>\n",
       "      <td>429</td>\n",
       "      <td>1.485</td>\n",
       "      <td>0.119</td>\n",
       "      <td>12.466</td>\n",
       "      <td>Wednesday</td>\n",
       "      <td>19</td>\n",
       "    </tr>\n",
       "    <tr>\n",
       "      <th>4</th>\n",
       "      <td>id2181028</td>\n",
       "      <td>2</td>\n",
       "      <td>2016-03-26 13:30:55</td>\n",
       "      <td>2016-03-26 13:38:10</td>\n",
       "      <td>-73.973</td>\n",
       "      <td>40.793</td>\n",
       "      <td>-73.973</td>\n",
       "      <td>40.783</td>\n",
       "      <td>435</td>\n",
       "      <td>1.189</td>\n",
       "      <td>0.121</td>\n",
       "      <td>9.837</td>\n",
       "      <td>Saturday</td>\n",
       "      <td>13</td>\n",
       "    </tr>\n",
       "  </tbody>\n",
       "</table>\n",
       "</div>"
      ],
      "text/plain": [
       "          id  vendor_id     pickup_datetime    dropoff_datetime  \\\n",
       "0  id2875421          2 2016-03-14 17:24:55 2016-03-14 17:32:30   \n",
       "1  id2377394          1 2016-06-12 00:43:35 2016-06-12 00:54:38   \n",
       "2  id3858529          2 2016-01-19 11:35:24 2016-01-19 12:10:48   \n",
       "3  id3504673          2 2016-04-06 19:32:31 2016-04-06 19:39:40   \n",
       "4  id2181028          2 2016-03-26 13:30:55 2016-03-26 13:38:10   \n",
       "\n",
       "   pickup_longitude  pickup_latitude  dropoff_longitude  dropoff_latitude  \\\n",
       "0           -73.982           40.768            -73.965            40.766   \n",
       "1           -73.980           40.739            -73.999            40.731   \n",
       "2           -73.979           40.764            -74.005            40.710   \n",
       "3           -74.010           40.720            -74.012            40.707   \n",
       "4           -73.973           40.793            -73.973            40.783   \n",
       "\n",
       "   trip_duration  distance_km  trip_duration_h  speed_km_h    weekday  \\\n",
       "0            455        1.499            0.126      11.856     Monday   \n",
       "1            663        1.806            0.184       9.804     Sunday   \n",
       "2           2124        6.385            0.590      10.822    Tuesday   \n",
       "3            429        1.485            0.119      12.466  Wednesday   \n",
       "4            435        1.189            0.121       9.837   Saturday   \n",
       "\n",
       "   time_hour  \n",
       "0         17  \n",
       "1          0  \n",
       "2         11  \n",
       "3         19  \n",
       "4         13  "
      ]
     },
     "execution_count": 127,
     "metadata": {},
     "output_type": "execute_result"
    }
   ],
   "source": [
    "df.head()"
   ]
  },
  {
   "cell_type": "markdown",
   "metadata": {},
   "source": [
    "## 1.2 calculer le nombre de trajets effectués en fonction du jour de la semaine "
   ]
  },
  {
   "cell_type": "code",
   "execution_count": 128,
   "metadata": {},
   "outputs": [
    {
     "name": "stdout",
     "output_type": "stream",
     "text": [
      "weekday\n",
      "Friday       1477\n",
      "Monday       1251\n",
      "Saturday     1473\n",
      "Sunday       1314\n",
      "Thursday     1430\n",
      "Tuesday      1387\n",
      "Wednesday    1392\n",
      "Name: id, dtype: int64\n"
     ]
    }
   ],
   "source": [
    "df['weekday'] = df['pickup_datetime'].dt.day_name()\n",
    "print(df.groupby(df['weekday']).count()['id'])"
   ]
  },
  {
   "cell_type": "code",
   "execution_count": 129,
   "metadata": {},
   "outputs": [
    {
     "data": {
      "image/png": "[encoded data removed]",
      "text/plain": [
       "<Figure size 612x360 with 1 Axes>"
      ]
     },
     "metadata": {
      "needs_background": "light"
     },
     "output_type": "display_data"
    }
   ],
   "source": [
    "\n",
    "\n",
    "pickups_by_day = df.groupby(df['weekday']).count()['id']\n",
    "\n",
    "# Create graph\n",
    "pickups_by_day.plot(x = 'weekday', figsize = (8.5,5))\n",
    "plt.xlabel('Jour de la course')\n",
    "plt.ylabel('count')\n",
    "plt.title(\"Le nombre de courses par jour\")\n",
    "plt.show()"
   ]
  },
  {
   "cell_type": "markdown",
   "metadata": {},
   "source": [
    "## 1.3 calculer le nombre de trajets effectués en fonction de l’horaire de la journée par tranche de 4h."
   ]
  },
  {
   "cell_type": "code",
   "execution_count": 130,
   "metadata": {},
   "outputs": [],
   "source": [
    "def hr_func(ts):\n",
    "    return ts.hour"
   ]
  },
  {
   "cell_type": "code",
   "execution_count": 131,
   "metadata": {},
   "outputs": [],
   "source": [
    "df['time_hour'] = df['pickup_datetime'].apply(hr_func)"
   ]
  },
  {
   "cell_type": "code",
   "execution_count": 132,
   "metadata": {},
   "outputs": [],
   "source": [
    "list_0_to_3 = []\n",
    "list_4_to_7 = []\n",
    "list_8_to_11 = []\n",
    "list_12_to_15 = []\n",
    "list_16_to_19 = []\n",
    "list_20_to_23 = []\n",
    "for value in df['time_hour'] : \n",
    "    if value in [0 ,1, 2 ,3 ] : \n",
    "        list_0_to_3.append(value)\n",
    "    elif value in [4,5,6,7] : \n",
    "        list_4_to_7.append(value)\n",
    "    elif value in [8,9,10,11] :\n",
    "        list_8_to_11.append(value)\n",
    "    elif value in [12,13,14,15] :\n",
    "        list_12_to_15.append(value)\n",
    "    elif value in [16,17,18,19] : \n",
    "        list_16_to_19.append(value)\n",
    "    else : \n",
    "        list_20_to_23.append(value)\n",
    "\n"
   ]
  },
  {
   "cell_type": "code",
   "execution_count": 133,
   "metadata": {},
   "outputs": [
    {
     "name": "stdout",
     "output_type": "stream",
     "text": [
      "931\n",
      "777\n",
      "1775\n",
      "1904\n",
      "2187\n",
      "2150\n"
     ]
    }
   ],
   "source": [
    "print(len(list_0_to_3)) # affiche le nombre de trajet entre minuit et 4h \n",
    "print(len(list_4_to_7)) # affiche le nombre de trajet entre 4h et 8h\n",
    "print(len(list_8_to_11)) # affiche le nombre de trajet entre 8h et 12h\n",
    "print(len(list_12_to_15)) # affiche le nombre de trajet entre 12h et 16h\n",
    "print(len(list_16_to_19)) # affiche le nombre de trajet entre 16h et 20h\n",
    "print(len(list_20_to_23)) # affiche le nombre de trajet entre 20h et minuit"
   ]
  },
  {
   "cell_type": "markdown",
   "metadata": {},
   "source": [
    "## 1.4 calculer le nombre de km parcourus par jour de la semaine"
   ]
  },
  {
   "cell_type": "code",
   "execution_count": 134,
   "metadata": {},
   "outputs": [
    {
     "data": {
      "text/plain": [
       "weekday\n",
       "Friday      4825.660\n",
       "Monday      4460.290\n",
       "Saturday    4881.420\n",
       "Sunday      4716.510\n",
       "Thursday    4804.710\n",
       "Tuesday     4589.580\n",
       "Wednesday   4769.320\n",
       "Name: distance_km, dtype: float64"
      ]
     },
     "execution_count": 134,
     "metadata": {},
     "output_type": "execute_result"
    }
   ],
   "source": [
    "df_km_day = df.groupby(df['weekday']).distance_km.sum()\n",
    "round(df_km_day,2)"
   ]
  },
  {
   "cell_type": "code",
   "execution_count": 135,
   "metadata": {},
   "outputs": [
    {
     "data": {
      "image/png": "[encoded data removed]",
      "text/plain": [
       "<Figure size 612x360 with 1 Axes>"
      ]
     },
     "metadata": {
      "needs_background": "light"
     },
     "output_type": "display_data"
    }
   ],
   "source": [
    "#Create graph\n",
    "df_km_day.plot(x = 'weekday', figsize = (8.5,5))\n",
    "plt.xlabel('Jour')\n",
    "plt.ylabel('nb km')\n",
    "plt.title(\"Le nombre de km par jour\")\n",
    "plt.show()"
   ]
  },
  {
   "cell_type": "markdown",
   "metadata": {},
   "source": [
    "la corrélation entre nombre de courses et nombre de kilomètres est flagrante"
   ]
  },
  {
   "cell_type": "markdown",
   "metadata": {},
   "source": [
    "## 1.5 Exploration des données "
   ]
  },
  {
   "cell_type": "code",
   "execution_count": 136,
   "metadata": {},
   "outputs": [
    {
     "data": {
      "text/plain": [
       "<AxesSubplot:>"
      ]
     },
     "execution_count": 136,
     "metadata": {},
     "output_type": "execute_result"
    },
    {
     "data": {
      "image/png": "[encoded data removed]",
      "text/plain": [
       "<Figure size 612x360 with 2 Axes>"
      ]
     },
     "metadata": {
      "needs_background": "light"
     },
     "output_type": "display_data"
    }
   ],
   "source": [
    "sns.heatmap(df.corr())"
   ]
  },
  {
   "cell_type": "code",
   "execution_count": 137,
   "metadata": {},
   "outputs": [
    {
     "data": {
      "image/png": "[encoded data removed]",
      "text/plain": [
       "<Figure size 612x360 with 1 Axes>"
      ]
     },
     "metadata": {
      "needs_background": "light"
     },
     "output_type": "display_data"
    }
   ],
   "source": [
    "num_bins = 100\n",
    "fig = plt.figure(figsize=(8.5, 5))\n",
    "plt.hist(df['trip_duration'], num_bins, edgecolor = 'black', alpha = .40)\n",
    "\n",
    "\n",
    "plt.xlabel('durée de la course en seconde')\n",
    "plt.ylabel('quantité')\n",
    "plt.title(\"nombre de courses de même durée\")\n",
    "plt.show()"
   ]
  },
  {
   "cell_type": "code",
   "execution_count": 138,
   "metadata": {},
   "outputs": [
    {
     "data": {
      "image/png": "[encoded data removed]",
      "text/plain": [
       "<Figure size 1152x432 with 1 Axes>"
      ]
     },
     "metadata": {
      "needs_background": "light"
     },
     "output_type": "display_data"
    }
   ],
   "source": [
    "\n",
    "cats = [ 'Monday', 'Tuesday', 'Wednesday', 'Thursday', 'Friday', 'Saturday', 'Sunday']\n",
    "\n",
    "df_weekday = df.groupby(['weekday']).sum().reindex(cats) \n",
    "df_weekday[['speed_km_h']].plot(figsize=(16,6), subplots=True);\n"
   ]
  },
  {
   "cell_type": "markdown",
   "metadata": {},
   "source": [
    "Ce graphique nous montre la vitesse moyenne en fonction du jour de la semaine. On peut voir qu'il n'y a pas vraiment de difference selon les jour de la semaine, meme si la circulaton le dimanche est legrement plus rapide"
   ]
  },
  {
   "cell_type": "code",
   "execution_count": 139,
   "metadata": {},
   "outputs": [
    {
     "data": {
      "text/plain": [
       "<AxesSubplot:xlabel='time_hour', ylabel='count'>"
      ]
     },
     "execution_count": 139,
     "metadata": {},
     "output_type": "execute_result"
    },
    {
     "data": {
      "image/png": "[encoded data removed]",
      "text/plain": [
       "<Figure size 612x360 with 1 Axes>"
      ]
     },
     "metadata": {
      "needs_background": "light"
     },
     "output_type": "display_data"
    }
   ],
   "source": [
    "sns.countplot(x = df['time_hour'])"
   ]
  },
  {
   "cell_type": "markdown",
   "metadata": {},
   "source": [
    "Ce graphique compte le nombre de trajet par heure "
   ]
  },
  {
   "cell_type": "code",
   "execution_count": 140,
   "metadata": {},
   "outputs": [
    {
     "data": {
      "text/html": [
       "<div>\n",
       "<style scoped>\n",
       "    .dataframe tbody tr th:only-of-type {\n",
       "        vertical-align: middle;\n",
       "    }\n",
       "\n",
       "    .dataframe tbody tr th {\n",
       "        vertical-align: top;\n",
       "    }\n",
       "\n",
       "    .dataframe thead th {\n",
       "        text-align: right;\n",
       "    }\n",
       "</style>\n",
       "<table border=\"1\" class=\"dataframe\">\n",
       "  <thead>\n",
       "    <tr style=\"text-align: right;\">\n",
       "      <th></th>\n",
       "      <th>id</th>\n",
       "      <th>vendor_id</th>\n",
       "      <th>pickup_datetime</th>\n",
       "      <th>dropoff_datetime</th>\n",
       "      <th>pickup_longitude</th>\n",
       "      <th>pickup_latitude</th>\n",
       "      <th>dropoff_longitude</th>\n",
       "      <th>dropoff_latitude</th>\n",
       "      <th>trip_duration</th>\n",
       "      <th>distance_km</th>\n",
       "      <th>trip_duration_h</th>\n",
       "      <th>speed_km_h</th>\n",
       "      <th>weekday</th>\n",
       "      <th>time_hour</th>\n",
       "    </tr>\n",
       "  </thead>\n",
       "  <tbody>\n",
       "    <tr>\n",
       "      <th>0</th>\n",
       "      <td>id2875421</td>\n",
       "      <td>2</td>\n",
       "      <td>2016-03-14 17:24:55</td>\n",
       "      <td>2016-03-14 17:32:30</td>\n",
       "      <td>-73.982</td>\n",
       "      <td>40.768</td>\n",
       "      <td>-73.965</td>\n",
       "      <td>40.766</td>\n",
       "      <td>455</td>\n",
       "      <td>1.499</td>\n",
       "      <td>0.126</td>\n",
       "      <td>11.856</td>\n",
       "      <td>Monday</td>\n",
       "      <td>17</td>\n",
       "    </tr>\n",
       "    <tr>\n",
       "      <th>1</th>\n",
       "      <td>id2377394</td>\n",
       "      <td>1</td>\n",
       "      <td>2016-06-12 00:43:35</td>\n",
       "      <td>2016-06-12 00:54:38</td>\n",
       "      <td>-73.980</td>\n",
       "      <td>40.739</td>\n",
       "      <td>-73.999</td>\n",
       "      <td>40.731</td>\n",
       "      <td>663</td>\n",
       "      <td>1.806</td>\n",
       "      <td>0.184</td>\n",
       "      <td>9.804</td>\n",
       "      <td>Sunday</td>\n",
       "      <td>0</td>\n",
       "    </tr>\n",
       "    <tr>\n",
       "      <th>2</th>\n",
       "      <td>id3858529</td>\n",
       "      <td>2</td>\n",
       "      <td>2016-01-19 11:35:24</td>\n",
       "      <td>2016-01-19 12:10:48</td>\n",
       "      <td>-73.979</td>\n",
       "      <td>40.764</td>\n",
       "      <td>-74.005</td>\n",
       "      <td>40.710</td>\n",
       "      <td>2124</td>\n",
       "      <td>6.385</td>\n",
       "      <td>0.590</td>\n",
       "      <td>10.822</td>\n",
       "      <td>Tuesday</td>\n",
       "      <td>11</td>\n",
       "    </tr>\n",
       "    <tr>\n",
       "      <th>3</th>\n",
       "      <td>id3504673</td>\n",
       "      <td>2</td>\n",
       "      <td>2016-04-06 19:32:31</td>\n",
       "      <td>2016-04-06 19:39:40</td>\n",
       "      <td>-74.010</td>\n",
       "      <td>40.720</td>\n",
       "      <td>-74.012</td>\n",
       "      <td>40.707</td>\n",
       "      <td>429</td>\n",
       "      <td>1.485</td>\n",
       "      <td>0.119</td>\n",
       "      <td>12.466</td>\n",
       "      <td>Wednesday</td>\n",
       "      <td>19</td>\n",
       "    </tr>\n",
       "    <tr>\n",
       "      <th>4</th>\n",
       "      <td>id2181028</td>\n",
       "      <td>2</td>\n",
       "      <td>2016-03-26 13:30:55</td>\n",
       "      <td>2016-03-26 13:38:10</td>\n",
       "      <td>-73.973</td>\n",
       "      <td>40.793</td>\n",
       "      <td>-73.973</td>\n",
       "      <td>40.783</td>\n",
       "      <td>435</td>\n",
       "      <td>1.189</td>\n",
       "      <td>0.121</td>\n",
       "      <td>9.837</td>\n",
       "      <td>Saturday</td>\n",
       "      <td>13</td>\n",
       "    </tr>\n",
       "  </tbody>\n",
       "</table>\n",
       "</div>"
      ],
      "text/plain": [
       "          id  vendor_id     pickup_datetime    dropoff_datetime  \\\n",
       "0  id2875421          2 2016-03-14 17:24:55 2016-03-14 17:32:30   \n",
       "1  id2377394          1 2016-06-12 00:43:35 2016-06-12 00:54:38   \n",
       "2  id3858529          2 2016-01-19 11:35:24 2016-01-19 12:10:48   \n",
       "3  id3504673          2 2016-04-06 19:32:31 2016-04-06 19:39:40   \n",
       "4  id2181028          2 2016-03-26 13:30:55 2016-03-26 13:38:10   \n",
       "\n",
       "   pickup_longitude  pickup_latitude  dropoff_longitude  dropoff_latitude  \\\n",
       "0           -73.982           40.768            -73.965            40.766   \n",
       "1           -73.980           40.739            -73.999            40.731   \n",
       "2           -73.979           40.764            -74.005            40.710   \n",
       "3           -74.010           40.720            -74.012            40.707   \n",
       "4           -73.973           40.793            -73.973            40.783   \n",
       "\n",
       "   trip_duration  distance_km  trip_duration_h  speed_km_h    weekday  \\\n",
       "0            455        1.499            0.126      11.856     Monday   \n",
       "1            663        1.806            0.184       9.804     Sunday   \n",
       "2           2124        6.385            0.590      10.822    Tuesday   \n",
       "3            429        1.485            0.119      12.466  Wednesday   \n",
       "4            435        1.189            0.121       9.837   Saturday   \n",
       "\n",
       "   time_hour  \n",
       "0         17  \n",
       "1          0  \n",
       "2         11  \n",
       "3         19  \n",
       "4         13  "
      ]
     },
     "execution_count": 140,
     "metadata": {},
     "output_type": "execute_result"
    }
   ],
   "source": [
    "df.head()"
   ]
  },
  {
   "cell_type": "code",
   "execution_count": 141,
   "metadata": {},
   "outputs": [
    {
     "data": {
      "text/plain": [
       "(9724, 14)"
      ]
     },
     "execution_count": 141,
     "metadata": {},
     "output_type": "execute_result"
    }
   ],
   "source": [
    "df.shape"
   ]
  },
  {
   "cell_type": "code",
   "execution_count": 142,
   "metadata": {},
   "outputs": [],
   "source": [
    "df.to_csv(\"/home/apprenant/PycharmProjects/NYC_cabs/data/clean.csv\", index = False , sep = ',' , encoding = 'utf-8', line_terminator = '\\n' )"
   ]
  },
  {
   "cell_type": "code",
   "execution_count": null,
   "metadata": {},
   "outputs": [],
   "source": []
  }
 ],
 "metadata": {
  "kernelspec": {
   "display_name": "Python 3",
   "language": "python",
   "name": "python3"
  },
  "language_info": {
   "codemirror_mode": {
    "name": "ipython",
    "version": 3
   },
   "file_extension": ".py",
   "mimetype": "text/x-python",
   "name": "python",
   "nbconvert_exporter": "python",
   "pygments_lexer": "ipython3",
   "version": "3.8.5"
  }
 },
 "nbformat": 4,
 "nbformat_minor": 4
}
