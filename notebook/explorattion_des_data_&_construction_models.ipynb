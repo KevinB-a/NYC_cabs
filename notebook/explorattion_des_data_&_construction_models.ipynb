{
 "cells": [
  {
   "cell_type": "markdown",
   "metadata": {},
   "source": [
    "# NYC_cabs"
   ]
  },
  {
   "cell_type": "code",
   "execution_count": 1,
   "metadata": {},
   "outputs": [],
   "source": [
    "#Importation des Modules nécessaires\n",
    "import pandas as pd\n",
    "\n",
    "\n",
    "#Pour que python reconnaisse un dossier comme un module il faut ajouter en son sein un fichier __init__.py \n",
    "#et également l'ajouter au PATH\n",
    "\n",
    "import sys\n",
    "sys.path.insert(0, \"/home/apprenant/PycharmProjects/NYC_cabs\")\n",
    "\n",
    "\n",
    "#On peut ensuite importer le dossier comme un module\n",
    "\n",
    "from src.utils import *\n"
   ]
  },
  {
   "cell_type": "code",
   "execution_count": 2,
   "metadata": {},
   "outputs": [],
   "source": [
    "df = pd.read_csv(\"/home/apprenant/PycharmProjects/NYC_cabs/data/clean.csv\",parse_dates= [2,3])\n"
   ]
  },
  {
   "cell_type": "code",
   "execution_count": 3,
   "metadata": {},
   "outputs": [
    {
     "data": {
      "text/plain": [
       "id                           object\n",
       "vendor_id                     int64\n",
       "pickup_datetime      datetime64[ns]\n",
       "dropoff_datetime     datetime64[ns]\n",
       "pickup_longitude            float64\n",
       "pickup_latitude             float64\n",
       "dropoff_longitude           float64\n",
       "dropoff_latitude            float64\n",
       "trip_duration                 int64\n",
       "dtype: object"
      ]
     },
     "execution_count": 3,
     "metadata": {},
     "output_type": "execute_result"
    }
   ],
   "source": [
    "\n",
    "df.dtypes\n"
   ]
  },
  {
   "cell_type": "markdown",
   "metadata": {},
   "source": [
    "## 1. Exploration des données"
   ]
  },
  {
   "cell_type": "markdown",
   "metadata": {},
   "source": [
    "## 1.1 calculer la vitesse moyenne de chaque trajet (en km/h) "
   ]
  },
  {
   "cell_type": "code",
   "execution_count": 4,
   "metadata": {},
   "outputs": [
    {
     "name": "stdout",
     "output_type": "stream",
     "text": [
      "179 km\n"
     ]
    }
   ],
   "source": [
    "# pour ce calcul il faut la distance en km, le temps de trajet en heure.\n",
    "\n",
    "\n",
    "# cooordonnées GPS en radians du 1er point (ici, mairie de Tours)\n",
    "latA = deg2rad(47.390668)  # Nord\n",
    "longA = deg2rad(0.689319)  # Est\n",
    "\n",
    "# cooordonnées GPS en radians du 2ème point (ici, mairie de Limoges)\n",
    "latB = deg2rad(45.826516)  # Nord\n",
    "longB = deg2rad(1.260290)  # Est\n",
    "\n",
    "dist_km = (distanceGPS(latA, longA, latB, longB))/1000\n",
    "print(int(dist_km),\"km\")"
   ]
  },
  {
   "cell_type": "code",
   "execution_count": 8,
   "metadata": {},
   "outputs": [],
   "source": [
    "df['distance'] = ft_haversine_distance(df['pickup_latitude'].values,df['pickup_longitude'].values, df['dropoff_latitude'].values,df['dropoff_longitude'].values)\n"
   ]
  },
  {
   "cell_type": "code",
   "execution_count": 9,
   "metadata": {},
   "outputs": [],
   "source": [
    "df[\"trip_duration\"] = df[\"trip_duration\"]/3600\n",
    "df[\"speed\"] = df[\"distance\"] / df[\"trip_duration\"]"
   ]
  },
  {
   "cell_type": "code",
   "execution_count": 10,
   "metadata": {},
   "outputs": [
    {
     "data": {
      "text/html": [
       "<div>\n",
       "<style scoped>\n",
       "    .dataframe tbody tr th:only-of-type {\n",
       "        vertical-align: middle;\n",
       "    }\n",
       "\n",
       "    .dataframe tbody tr th {\n",
       "        vertical-align: top;\n",
       "    }\n",
       "\n",
       "    .dataframe thead th {\n",
       "        text-align: right;\n",
       "    }\n",
       "</style>\n",
       "<table border=\"1\" class=\"dataframe\">\n",
       "  <thead>\n",
       "    <tr style=\"text-align: right;\">\n",
       "      <th></th>\n",
       "      <th>id</th>\n",
       "      <th>vendor_id</th>\n",
       "      <th>pickup_datetime</th>\n",
       "      <th>dropoff_datetime</th>\n",
       "      <th>pickup_longitude</th>\n",
       "      <th>pickup_latitude</th>\n",
       "      <th>dropoff_longitude</th>\n",
       "      <th>dropoff_latitude</th>\n",
       "      <th>trip_duration</th>\n",
       "      <th>distance</th>\n",
       "      <th>speed</th>\n",
       "    </tr>\n",
       "  </thead>\n",
       "  <tbody>\n",
       "    <tr>\n",
       "      <th>0</th>\n",
       "      <td>id2875421</td>\n",
       "      <td>2</td>\n",
       "      <td>2016-03-14 17:24:55</td>\n",
       "      <td>2016-03-14 17:32:30</td>\n",
       "      <td>-73.982155</td>\n",
       "      <td>40.767937</td>\n",
       "      <td>-73.964630</td>\n",
       "      <td>40.765602</td>\n",
       "      <td>0.000035</td>\n",
       "      <td>1.498521</td>\n",
       "      <td>42683.141328</td>\n",
       "    </tr>\n",
       "    <tr>\n",
       "      <th>1</th>\n",
       "      <td>id2377394</td>\n",
       "      <td>1</td>\n",
       "      <td>2016-06-12 00:43:35</td>\n",
       "      <td>2016-06-12 00:54:38</td>\n",
       "      <td>-73.980415</td>\n",
       "      <td>40.738564</td>\n",
       "      <td>-73.999481</td>\n",
       "      <td>40.731152</td>\n",
       "      <td>0.000051</td>\n",
       "      <td>1.805507</td>\n",
       "      <td>35293.171806</td>\n",
       "    </tr>\n",
       "    <tr>\n",
       "      <th>2</th>\n",
       "      <td>id3858529</td>\n",
       "      <td>2</td>\n",
       "      <td>2016-01-19 11:35:24</td>\n",
       "      <td>2016-01-19 12:10:48</td>\n",
       "      <td>-73.979027</td>\n",
       "      <td>40.763939</td>\n",
       "      <td>-74.005333</td>\n",
       "      <td>40.710087</td>\n",
       "      <td>0.000164</td>\n",
       "      <td>6.385098</td>\n",
       "      <td>38959.923022</td>\n",
       "    </tr>\n",
       "    <tr>\n",
       "      <th>3</th>\n",
       "      <td>id3504673</td>\n",
       "      <td>2</td>\n",
       "      <td>2016-04-06 19:32:31</td>\n",
       "      <td>2016-04-06 19:39:40</td>\n",
       "      <td>-74.010040</td>\n",
       "      <td>40.719971</td>\n",
       "      <td>-74.012268</td>\n",
       "      <td>40.706718</td>\n",
       "      <td>0.000033</td>\n",
       "      <td>1.485498</td>\n",
       "      <td>44876.595709</td>\n",
       "    </tr>\n",
       "    <tr>\n",
       "      <th>4</th>\n",
       "      <td>id2181028</td>\n",
       "      <td>2</td>\n",
       "      <td>2016-03-26 13:30:55</td>\n",
       "      <td>2016-03-26 13:38:10</td>\n",
       "      <td>-73.973053</td>\n",
       "      <td>40.793209</td>\n",
       "      <td>-73.972923</td>\n",
       "      <td>40.782520</td>\n",
       "      <td>0.000034</td>\n",
       "      <td>1.188588</td>\n",
       "      <td>35411.738926</td>\n",
       "    </tr>\n",
       "  </tbody>\n",
       "</table>\n",
       "</div>"
      ],
      "text/plain": [
       "          id  vendor_id     pickup_datetime    dropoff_datetime  \\\n",
       "0  id2875421          2 2016-03-14 17:24:55 2016-03-14 17:32:30   \n",
       "1  id2377394          1 2016-06-12 00:43:35 2016-06-12 00:54:38   \n",
       "2  id3858529          2 2016-01-19 11:35:24 2016-01-19 12:10:48   \n",
       "3  id3504673          2 2016-04-06 19:32:31 2016-04-06 19:39:40   \n",
       "4  id2181028          2 2016-03-26 13:30:55 2016-03-26 13:38:10   \n",
       "\n",
       "   pickup_longitude  pickup_latitude  dropoff_longitude  dropoff_latitude  \\\n",
       "0        -73.982155        40.767937         -73.964630         40.765602   \n",
       "1        -73.980415        40.738564         -73.999481         40.731152   \n",
       "2        -73.979027        40.763939         -74.005333         40.710087   \n",
       "3        -74.010040        40.719971         -74.012268         40.706718   \n",
       "4        -73.973053        40.793209         -73.972923         40.782520   \n",
       "\n",
       "   trip_duration  distance         speed  \n",
       "0       0.000035  1.498521  42683.141328  \n",
       "1       0.000051  1.805507  35293.171806  \n",
       "2       0.000164  6.385098  38959.923022  \n",
       "3       0.000033  1.485498  44876.595709  \n",
       "4       0.000034  1.188588  35411.738926  "
      ]
     },
     "execution_count": 10,
     "metadata": {},
     "output_type": "execute_result"
    }
   ],
   "source": [
    "df.head()"
   ]
  },
  {
   "cell_type": "markdown",
   "metadata": {},
   "source": [
    "## 1.2 calculer le nombre de trajets effectués en fonction du jour de la semaine "
   ]
  },
  {
   "cell_type": "code",
   "execution_count": 15,
   "metadata": {},
   "outputs": [
    {
     "name": "stdout",
     "output_type": "stream",
     "text": [
      "weekday\n",
      "Friday       223533\n",
      "Monday       187418\n",
      "Saturday     220868\n",
      "Sunday       195366\n",
      "Thursday     218574\n",
      "Tuesday      202749\n",
      "Wednesday    210136\n",
      "Name: id, dtype: int64\n"
     ]
    }
   ],
   "source": [
    "\n",
    "df['weekday'] = df['pickup_datetime'].dt.day_name()\n",
    "print(df.groupby(df['weekday']).count()['id'])"
   ]
  },
  {
   "cell_type": "markdown",
   "metadata": {},
   "source": [
    "## 1.3 calculer le nombre de trajets effectués en fonction de l’horaire de la journée par tranche de 4h."
   ]
  },
  {
   "cell_type": "code",
   "execution_count": 18,
   "metadata": {},
   "outputs": [
    {
     "name": "stdout",
     "output_type": "stream",
     "text": [
      "hour\n",
      "0     53248\n",
      "1     38571\n",
      "2     27972\n",
      "3     20895\n",
      "4     15792\n",
      "5     15002\n",
      "6     33248\n",
      "7     55600\n",
      "8     67053\n",
      "9     67663\n",
      "10    65437\n",
      "11    68476\n",
      "12    71873\n",
      "13    71473\n",
      "14    74292\n",
      "15    71811\n",
      "16    64313\n",
      "17    76483\n",
      "18    90600\n",
      "19    90308\n",
      "20    84072\n",
      "21    84185\n",
      "22    80492\n",
      "23    69785\n",
      "Name: id, dtype: int64\n"
     ]
    }
   ],
   "source": [
    "df['hour'] = df['pickup_datetime'].dt.hour\n",
    "print(df.groupby(df['hour']).count()['id'])"
   ]
  },
  {
   "cell_type": "code",
   "execution_count": 37,
   "metadata": {},
   "outputs": [
    {
     "name": "stdout",
     "output_type": "stream",
     "text": [
      "156478\n",
      "170903\n",
      "273449\n",
      "281889\n",
      "341463\n",
      "234462\n"
     ]
    }
   ],
   "source": [
    "# a = df.loc[(df['hour'] >= 0) & (df['hour'] <= 3)]\n",
    "# print(\"de 0h à 3h\",a.count()['id'],\"trajets effectués\")\n",
    "\n",
    "# b = df.loc[(df['hour'] >= 4) & (df['hour'] <= 7)]\n",
    "# print(\"de 4h à 7h\",b.count()['id'],\"trajets effectués\")\n",
    "\n",
    "# c= df.loc[(df['hour'] >= 8) & (df['hour'] <= 11)]\n",
    "# print(\"de 8h à 11h\",c.count()['id'],\"trajets effectués\")\n",
    "\n",
    "# d = df.loc[(df['hour'] >= 12) & (df['hour'] <= 15)]\n",
    "# print(\"de 12h à 15h\",d.count()['id'],\"trajets effectués\")\n",
    "\n",
    "# e = df.loc[(df['hour'] >= 16) & (df['hour'] <= 19)]\n",
    "# print(\"de 16h à 19h\",e.count()['id'],\"trajets effectués\")\n",
    "\n",
    "# f = df.loc[(df['hour'] >= 20) & (df['hour'] <= 23)]\n",
    "# print(\"de 20h à 23h\",f.count()['id'],\"trajets effectués\")\n",
    "\n",
    "list_0_to_4 = []\n",
    "list_5_to_8 = []\n",
    "list_9_to_12 = []\n",
    "list_13_to_16 = []\n",
    "list_17_to_20 = []\n",
    "list_21_to_23 = []\n",
    "for value in df['hour'] : \n",
    "    if value in [0 ,1, 2 ,3 ,4] : \n",
    "        list_0_to_4.append(value)\n",
    "    elif value in [5,6,7,8] : \n",
    "        list_5_to_8.append(value)\n",
    "    elif value in [9,10,11,12] :\n",
    "        list_9_to_12.append(value)\n",
    "    elif value in [13,14,15,16] :\n",
    "        list_13_to_16.append(value)\n",
    "    elif value in [17,18,19,20] : \n",
    "        list_17_to_20.append(value)\n",
    "    else : \n",
    "        list_21_to_23.append(value)\n",
    "        \n",
    "print(len(list_0_to_4))\n",
    "print(len(list_5_to_8))\n",
    "print(len(list_9_to_12))\n",
    "print(len(list_13_to_16))\n",
    "print(len(list_17_to_20))\n",
    "print(len(list_21_to_23))"
   ]
  },
  {
   "cell_type": "markdown",
   "metadata": {},
   "source": [
    "## 1.4 calculer le nombre de km parcourus par jour de la semaine"
   ]
  },
  {
   "cell_type": "code",
   "execution_count": 38,
   "metadata": {},
   "outputs": [
    {
     "name": "stdout",
     "output_type": "stream",
     "text": [
      "weekday\n",
      "Friday       758724.47\n",
      "Monday       668482.11\n",
      "Saturday     736411.13\n",
      "Sunday       726453.25\n",
      "Thursday     747677.63\n",
      "Tuesday      678328.10\n",
      "Wednesday    702918.80\n",
      "Name: distance, dtype: float64\n"
     ]
    }
   ],
   "source": [
    "\n",
    "df_km_day = df.groupby(df['weekday']).distance.sum()\n",
    "print(round(df_km_day,2))"
   ]
  },
  {
   "cell_type": "markdown",
   "metadata": {},
   "source": [
    "## 2. Choix du modèle de machine learning"
   ]
  },
  {
   "cell_type": "markdown",
   "metadata": {},
   "source": [
    "## 3. Préparation des données"
   ]
  },
  {
   "cell_type": "markdown",
   "metadata": {},
   "source": [
    "### 3.a échantillonage"
   ]
  },
  {
   "cell_type": "markdown",
   "metadata": {},
   "source": [
    "### 3.b Sélection de la variable cible et des variables à explicatives"
   ]
  },
  {
   "cell_type": "markdown",
   "metadata": {},
   "source": [
    "## 4. Division du jeu de données en training/validation/testing sets"
   ]
  },
  {
   "cell_type": "markdown",
   "metadata": {},
   "source": [
    "## 5. Apprentissage sur le training set"
   ]
  },
  {
   "cell_type": "markdown",
   "metadata": {},
   "source": [
    "#### On implémente la regression linéaire"
   ]
  },
  {
   "cell_type": "markdown",
   "metadata": {},
   "source": [
    "#### On obtient ainsi les parmètres β1 et β0 de notre modèle"
   ]
  },
  {
   "cell_type": "markdown",
   "metadata": {},
   "source": [
    "#### On peut à présent réaliser des prédictions"
   ]
  },
  {
   "cell_type": "markdown",
   "metadata": {},
   "source": [
    "#### enfin on peut représenter notre modèle linéaire"
   ]
  },
  {
   "cell_type": "markdown",
   "metadata": {},
   "source": [
    "## 6. Evaluation du modèle sur le testing set"
   ]
  },
  {
   "cell_type": "markdown",
   "metadata": {},
   "source": [
    "#### évaluation à partir du R2"
   ]
  },
  {
   "cell_type": "markdown",
   "metadata": {},
   "source": [
    "#### évaluation à partir du RMSE"
   ]
  },
  {
   "cell_type": "markdown",
   "metadata": {},
   "source": [
    "#### évaluation graphique"
   ]
  }
 ],
 "metadata": {
  "kernelspec": {
   "display_name": "Python 3",
   "language": "python",
   "name": "python3"
  },
  "language_info": {
   "codemirror_mode": {
    "name": "ipython",
    "version": 3
   },
   "file_extension": ".py",
   "mimetype": "text/x-python",
   "name": "python",
   "nbconvert_exporter": "python",
   "pygments_lexer": "ipython3",
   "version": "3.8.5"
  }
 },
 "nbformat": 4,
 "nbformat_minor": 4
}
